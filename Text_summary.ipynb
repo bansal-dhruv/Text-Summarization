{
 "cells": [
  {
   "cell_type": "code",
   "execution_count": 4,
   "metadata": {},
   "outputs": [],
   "source": [
    "import pandas as pd\n",
    "import numpy as np\n",
    "import spacy\n",
    "import en_core_web_sm\n",
    "import nltk\n",
    "import re\n",
    "from stop_words import get_stop_words"
   ]
  },
  {
   "cell_type": "code",
   "execution_count": 5,
   "metadata": {},
   "outputs": [],
   "source": [
    "def getText(filename):\n",
    "    if filename[len(filename)-3:] == \"pdf\":\n",
    "        from tika import parser\n",
    "        raw = parser.from_file(filename)\n",
    "        return raw['content']\n",
    "    else:\n",
    "        import docx\n",
    "        doc = docx.Document(filename)\n",
    "        fullText = []\n",
    "        for para in doc.paragraphs:\n",
    "            fullText.append(para.text)\n",
    "    return '\\n'.join(fullText)"
   ]
  },
  {
   "cell_type": "code",
   "execution_count": 6,
   "metadata": {},
   "outputs": [],
   "source": [
    "raw_text =getText(\"n_thakur_petition.docx\")\n",
    "\n",
    "nlp = spacy.load(\"en_core_web_sm\")\n",
    "\n",
    "paras = [i.replace('\\t',' ') for i in raw_text.split('\\n') if i!='']\n",
    "\n",
    "inp_to_spacy = \" \".join(paras) # create string from paras list\n",
    "\n",
    "doc = nlp(inp_to_spacy) # a spacy doc object it has everything\n",
    "\n",
    "# getting sentences out of doc\n",
    "sentences = [sentence for idno, sentence in enumerate(doc.sents)]\n",
    "\n",
    "sentences = [re.sub(\"…\", \"\", str(sentence)) for sentence in sentences]\n",
    "\n",
    "sentences = [re.sub(\"[.][.]+\", \"\", str(sentence)) for sentence in sentences]\n",
    "\n",
    "# again we input the data in spacy\n",
    "\n",
    "input_to_spacy = \" \".join(sentences)\n",
    "doc = nlp(input_to_spacy)\n",
    "\n",
    "tokens = [token for token in doc if not nlp.vocab[str(token)].is_stop]\n",
    "\n",
    "# still it contains tokens that we dont need like , . - etc\n",
    "# removing them manually\n",
    "stop_words = get_stop_words('en')\n",
    "tokens = [token for token in doc if str(token) not in stop_words]\n",
    "\n",
    "# Result from the above cells:\n",
    "# 1. `sentences`\n",
    "# 2. `tokens`\n",
    "\n",
    "nltk.download('punkt') # one time execution\n",
    "\n",
    "# ## Need to download dataset\n",
    "# http://downloads.cs.stanford.edu/nlp/data/glove.6B.zip\n",
    "\n",
    "word_embeddings = {}\n",
    "\n",
    "f = open('glove.6B.100d.txt', encoding='utf-8')\n",
    "for line in f:\n",
    "    values = line.split()\n",
    "    word = values[0]\n",
    "    coefs = np.asarray(values[1:], dtype='float32')\n",
    "    word_embeddings[word] = coefs\n",
    "f.close()"
   ]
  },
  {
   "cell_type": "code",
   "execution_count": 7,
   "metadata": {},
   "outputs": [],
   "source": [
    "# len(word_embeddings.get(\"by\"))\n",
    "\n",
    "get_stop_words('')"
   ]
  },
  {
   "cell_type": "code",
   "execution_count": 8,
   "metadata": {},
   "outputs": [],
   "source": [
    "\n",
    "\n",
    "#    create sentence vectors\n",
    "sentence_vectors = []\n",
    "for i in sentences:\n",
    "    if len(i) != 0:\n",
    "        v = sum([word_embeddings.get(w, np.zeros((100,))) for w in i.split()])/(len(i.split())+0.001)\n",
    "    else:\n",
    "        v = np.zeros((100,))\n",
    "    sentence_vectors.append(v)\n",
    "\n"
   ]
  },
  {
   "cell_type": "code",
   "execution_count": 9,
   "metadata": {},
   "outputs": [],
   "source": [
    "len(sentence_vectors)"
   ]
  },
  {
   "cell_type": "code",
   "execution_count": 10,
   "metadata": {},
   "outputs": [],
   "source": [
    "\n",
    "\n",
    "sentence_vectors\n",
    "\n",
    "# similarity matrix\n",
    "sim_mat = np.zeros([len(sentences), len(sentences)])\n",
    "\n",
    "\n",
    "from sklearn.metrics.pairwise import cosine_similarity\n",
    "\n",
    "\n",
    "for i in range(len(sentences)):\n",
    "    for j in range(len(sentences)):\n",
    "        if i != j:\n",
    "            sim_mat[i][j] = cosine_similarity(sentence_vectors[i].reshape(1,100), sentence_vectors[j].reshape(1,100))[0,0]\n",
    "\n"
   ]
  },
  {
   "cell_type": "code",
   "execution_count": 11,
   "metadata": {},
   "outputs": [],
   "source": [
    "import networkx as nx\n",
    "\n",
    "nx_graph = nx.from_numpy_matrix(sim_mat)\n",
    "scores = nx.pagerank(nx_graph)\n"
   ]
  },
  {
   "cell_type": "code",
   "execution_count": 12,
   "metadata": {},
   "outputs": [],
   "source": [
    "scores"
   ]
  },
  {
   "cell_type": "code",
   "execution_count": 13,
   "metadata": {},
   "outputs": [],
   "source": [
    "\n",
    "ranked_sentences = sorted(((scores[i],s) for i,s in enumerate(sentences)), reverse=True)\n",
    "summary = []"
   ]
  },
  {
   "cell_type": "code",
   "execution_count": 14,
   "metadata": {},
   "outputs": [],
   "source": [
    "ranked_sentences"
   ]
  },
  {
   "cell_type": "code",
   "execution_count": 15,
   "metadata": {},
   "outputs": [],
   "source": [
    "# i=1\n",
    "# for i in range(1, len(ranked_sentences)):\n",
    "#     if ranked_sentences[i][0]==ranked_sentences[i-1][0]:\n",
    "#         ranked_sentences.pop(i)\n",
    "# print(ranked_sentences)"
   ]
  },
  {
   "cell_type": "code",
   "execution_count": null,
   "metadata": {},
   "outputs": [],
   "source": [
    "summary=[]\n",
    "for i in range(len(ranked_sentences)):\n",
    "    print(ranked_sentences[i][1])"
   ]
  },
  {
   "cell_type": "code",
   "execution_count": 16,
   "metadata": {},
   "outputs": [],
   "source": [
    "summary=[]\n",
    "i=0\n",
    "while i<max(((int)(len(ranked_sentences)/10)),5):    \n",
    "    if(ranked_sentences[0][0]/1000>ranked_sentences[i][0]):\n",
    "        break    \n",
    "    if(ranked_sentences[i][0]<=0):\n",
    "        break\n",
    "    summary.append(ranked_sentences[i][1])\n",
    "    i+=1\n",
    "    if(i>=len(ranked_sentences)):\n",
    "        break\n",
    "    \n",
    "\n",
    "ordered_summary = []\n",
    "ordered_set = {-1}\n",
    "for i in sentences:\n",
    "    if i in summary and i.lower() not in ordered_set:\n",
    "        ordered_summary.append(i)\n",
    "        ordered_set.add(i.lower())\n",
    "import docx\n",
    "d = docx.Document()\n",
    "d.add_heading('Summary', 0)\n",
    "\n",
    "for i in ordered_summary:\n",
    "    d.add_paragraph(\n",
    "        i, style='List Bullet'\n",
    "    )\n",
    "\n",
    "d.save('_summarized_2.docx')"
   ]
  },
  {
   "cell_type": "code",
   "execution_count": null,
   "metadata": {},
   "outputs": [],
   "source": [
    "ordered_summary"
   ]
  },
  {
   "cell_type": "code",
   "execution_count": null,
   "metadata": {},
   "outputs": [],
   "source": []
  }
 ],
 "metadata": {
  "kernelspec": {
   "display_name": "Python 3",
   "language": "python",
   "name": "python3"
  },
  "language_info": {
   "codemirror_mode": {
    "name": "ipython",
    "version": 3
   },
   "file_extension": ".py",
   "mimetype": "text/x-python",
   "name": "python",
   "nbconvert_exporter": "python",
   "pygments_lexer": "ipython3",
   "version": "3.6.8"
  }
 },
 "nbformat": 4,
 "nbformat_minor": 2
}
